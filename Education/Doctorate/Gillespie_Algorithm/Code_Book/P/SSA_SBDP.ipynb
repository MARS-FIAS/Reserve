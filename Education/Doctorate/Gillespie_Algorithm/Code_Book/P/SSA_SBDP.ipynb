{
 "cells": [
  {
   "cell_type": "code",
   "execution_count": null,
   "metadata": {},
   "outputs": [],
   "source": [
    "import matplotlib\n",
    "import matplotlib.pyplot as plt\n",
    "import numpy as np\n",
    "import pandas as pd\n",
    "import math"
   ]
  },
  {
   "cell_type": "code",
   "execution_count": null,
   "metadata": {},
   "outputs": [],
   "source": [
    "# Parameters definition\n",
    "\n",
    "x_0 = 0 # Initial population\n",
    "b = 10 # Birth rate\n",
    "_b = 1 # Number of births\n",
    "d = 0.1 # Death rate\n",
    "_d = 1 # Number of deaths\n",
    "nu = 2000 # Number of samples minus 1 (i.e., nu + 1 equals the number of samples)\n",
    "nt = 2 # Number of trajectories plus 1\n",
    "show = True # Plot stuff?\n",
    "san = True # A simple check"
   ]
  },
  {
   "cell_type": "code",
   "execution_count": null,
   "metadata": {},
   "outputs": [],
   "source": [
    "# Function definition\n",
    "\n",
    "def SBDP(x_0, b, _b, d, _d, nu, nt, show, san):\n",
    "    T = [] # A list which stores the lists with the interevent times\n",
    "    N = [] # A list which stores the lists with the number of individuals\n",
    "    # j is the index of the current simulation\n",
    "    for j in range(1, nt):\n",
    "        tt = 0 # Initial time\n",
    "        n = [] # A list storing the number of molecules at each given time for the current simulation\n",
    "        n.append(x_0) # The initial number of molecules\n",
    "        t = [] # A list storing the interevent times for the current simulation\n",
    "        t.append(0) # By definition, the first point is 0\n",
    "        # Here tt < numb, means that numb is the max number of random samples we want to generate for the current simulation\n",
    "        while tt < nu:\n",
    "            y1 = np.random.uniform()\n",
    "            y2 = np.random.uniform()\n",
    "            z1 = -np.log(y1)/(b+d*n[tt])+t[tt]\n",
    "            t.append(z1)\n",
    "            tt += 1\n",
    "            if b+d*n[tt-1] == 0: # Only the death rate is non-zero in this case!\n",
    "                n.append(0)\n",
    "                break\n",
    "            z2 = (d*n[tt-1])/(b+d*n[tt-1])\n",
    "            if y2 < z2:\n",
    "                n.append(n[tt-1]-_d)\n",
    "            else:\n",
    "                n.append(n[tt-1]+_b)\n",
    "        # san = [len(n), len(t)]\n",
    "        # print(san)\n",
    "        if show: plt.plot(t, n) # print('Yes') if False else print('No')\n",
    "        T.append(t) # Store the stochastic realization!\n",
    "        N.append(n) # Store the stochastic realization!\n",
    "    if san:\n",
    "        _san = [len(N), len(T)]\n",
    "        print(_san)\n",
    "        print('Over!')\n",
    "        print(b/d)\n",
    "        # Check for inconsistencies!\n",
    "        print([len(i) for i in T])\n",
    "        print([len(i) for i in N])\n",
    "    return (N, T)"
   ]
  },
  {
   "cell_type": "code",
   "execution_count": null,
   "metadata": {},
   "outputs": [],
   "source": [
    "(N, T) = SBDP(x_0, b, _b, d, _d, nu, nt, show, san = True)"
   ]
  },
  {
   "cell_type": "code",
   "execution_count": null,
   "metadata": {},
   "outputs": [],
   "source": [
    "DN = [] # The copy number differences! A list of lists!\n",
    "for n in N:\n",
    "    DN.append([n[i]-n[i-1] for i in range(1, len(n))])\n",
    "\n",
    "DT = [] # The time differences! A list of lists!\n",
    "for t in T:\n",
    "    DT.append([t[i]-t[i-1] for i in range(1, len(t))])"
   ]
  },
  {
   "cell_type": "code",
   "execution_count": null,
   "metadata": {},
   "outputs": [],
   "source": [
    "# Now we construct a simple function to 'organize' our interevent times, so that we have a 'matching' grid of equally spaced points!\n",
    "# Please improve (make faster) the function!\n",
    "\n",
    "def Equidistant(N, T, nu):\n",
    "    if nu + 1 != len(T[0]):\n",
    "        print(\"Something may be wrong!\")\n",
    "    DT = [] # The time differences! A list of lists!\n",
    "    for t in T:\n",
    "        DT.append([t[i]-t[i-1] for i in range(1, len(t))]) # The length of the list must be nu - 1\n",
    "    # sum(DT[0]) == max(T[0]) # It should be 'True' for any index\n",
    "    MT = [max(i)/nu for i in T] # Mean time\n",
    "    # We can also try to take the minimum of the time differences for each sample path/function\n",
    "    pots = [i/j for i in [max(k) for k in T] for j in MT] # This should be equal (close) to nu\n",
    "    # In general, we can define our grid with equidistant points as a set of nu epochs with interspacing equal to:\n",
    "    maxi = math.ceil(max([max(i) for i in T])) # mini = min(MT)\n",
    "    # Actual implementation [Start]\n",
    "    mini = math.ceil(min([max(i) for i in T]))\n",
    "    # We could simply round this number to the nearest integer, but it's not a robust solution!\n",
    "    step = mini/nu\n",
    "    grid = [i*step for i in range(0, nu+1)]\n",
    "    NN = []\n",
    "    for i in range(0, len(T)):\n",
    "        nn = []\n",
    "        t = T[i]\n",
    "        n = N[i]\n",
    "        for j in range(0, nu+1):\n",
    "            if j == 0:\n",
    "                l = 0\n",
    "            else:\n",
    "                l = p\n",
    "            temp = [(grid[j] - k) for k in t[l:] if (grid[j] - k) >= 0]\n",
    "            p = temp.index(min(temp))\n",
    "            nn.append(n[p+l])\n",
    "        NN.append(nn)\n",
    "    # Actual implementation [End]\n",
    "    return (NN, grid)"
   ]
  },
  {
   "cell_type": "code",
   "execution_count": null,
   "metadata": {},
   "outputs": [],
   "source": [
    "# Here we check the change of time grid!\n",
    "(NN, TT) = Equidistant(N, T, nu)"
   ]
  },
  {
   "cell_type": "code",
   "execution_count": null,
   "metadata": {},
   "outputs": [],
   "source": [
    "# This variable, k, should be the index of the simulation one wishes to see!\n",
    "k = 0\n",
    "plt.plot(T[k], N[k]) # Original Blue\n",
    "plt.plot(TT, NN[k]) # Modified Orange"
   ]
  },
  {
   "cell_type": "code",
   "execution_count": null,
   "metadata": {},
   "outputs": [],
   "source": [
    "# This is to better visualize the time evolution after fixing the grid!\n",
    "# It should work only after running the plot above!\n",
    "# One letter := Old\n",
    "# Two letters := New\n",
    "df = {'N': N[k], 'NN': NN[k], 'T': T[k], 'TT': TT}\n",
    "a = pd.DataFrame(df)\n",
    "# a"
   ]
  },
  {
   "cell_type": "code",
   "execution_count": null,
   "metadata": {},
   "outputs": [],
   "source": [
    "# Let's explore the ensemble averages and also the time averages!\n",
    "df = pd.DataFrame(np.array(NN).transpose(), index = TT)\n",
    "epoch = 70\n",
    "_df = df.loc[df.index >= epoch]\n",
    "ensemble = {'mean': _df.mean(axis = 1), 'std': _df.std(axis = 1)}\n",
    "timer = {'mean': _df.mean(axis = 0), 'std': _df.std(axis = 0)}\n",
    "\n",
    "# plt.plot(ensemble['mean'], linewidth = 0.5, linestyle = ':')"
   ]
  },
  {
   "cell_type": "code",
   "execution_count": null,
   "metadata": {},
   "outputs": [],
   "source": [
    "# Variance Estimation\n",
    "# This one only considers powers of two for splitting!\n",
    "# For example, if there are 100 data points, then we first estimate variance from 100 points.\n",
    "# Aftewards, we split the data points in 2, calculate variance in each subset, and take the mean of those two samples.\n",
    "# We proceed in a similar fashion, now splitting in powers of two!"
   ]
  },
  {
   "cell_type": "code",
   "execution_count": null,
   "metadata": {},
   "outputs": [],
   "source": [
    "def VARE(x):\n",
    "    # Some definitions!\n",
    "    l = x.shape[0]\n",
    "    e = math.floor(math.log2(l))\n",
    "    # Actual implementation!\n",
    "    subsets = []\n",
    "    varas = []\n",
    "    for _ in range(e):\n",
    "        step = math.ceil(l/pow(2, _))\n",
    "        positions = list(range(0, l, step))\n",
    "        if l not in positions:\n",
    "            positions.append(l)\n",
    "        # print(positions)\n",
    "        subsets.append(step) # subsets.append(len(positions)-1)\n",
    "        # print(subsets)\n",
    "        _varas = []\n",
    "        for i in range(len(positions)-1):\n",
    "            from_to = positions[i:i+2]\n",
    "            # print(from_to)\n",
    "            _x = x.iloc[from_to[0]:from_to[1]]\n",
    "            # print(_x.shape[0])\n",
    "            _varas.append(_x.std(axis = 1).mean())\n",
    "        # print(_varas)\n",
    "        temp = pd.Series(_varas).mean()\n",
    "        varas.append(pow(temp, 1))\n",
    "        # print(varas)\n",
    "        # print('\\n')\n",
    "        plt.plot(subsets, varas)\n",
    "    return (subsets, varas)"
   ]
  },
  {
   "cell_type": "code",
   "execution_count": null,
   "metadata": {},
   "outputs": [],
   "source": [
    "VARE(_df)"
   ]
  },
  {
   "cell_type": "code",
   "execution_count": null,
   "metadata": {},
   "outputs": [],
   "source": [
    "math.sqrt(100)"
   ]
  },
  {
   "cell_type": "code",
   "execution_count": null,
   "metadata": {},
   "outputs": [],
   "source": [
    "plt.plot(df, linewidth = 0.5, linestyle = ':')\n",
    "plt.plot(ensemble['mean'], linewidth = 3, linestyle = '-')\n",
    "plt.plot(ensemble['mean'] + ensemble['std'], linewidth = 2, linestyle = '-')\n",
    "plt.plot(ensemble['mean'] - ensemble['std'], linewidth = 2, linestyle = '-')"
   ]
  },
  {
   "cell_type": "code",
   "execution_count": null,
   "metadata": {},
   "outputs": [],
   "source": [
    "print(timer['mean'].mean())\n",
    "print(ensemble['mean'].mean())\n",
    "# timer['std'].mean()\n",
    "print(ensemble['std'].mean())"
   ]
  },
  {
   "cell_type": "code",
   "execution_count": null,
   "metadata": {},
   "outputs": [],
   "source": [
    "a = ensemble['std'].mean()\n",
    "(a*a)/ensemble['mean'].mean()"
   ]
  },
  {
   "cell_type": "code",
   "execution_count": null,
   "metadata": {},
   "outputs": [],
   "source": [
    "expectation = [10, 100, 200, 300, 400, 500, 600, 700, 800, 900, 1000]\n",
    "average = [9.95, 100.37, 199.73, 299.84, 400.02, 500.01, 600.3, 701.02, 799.99, 900.01, 1000.12]"
   ]
  },
  {
   "cell_type": "code",
   "execution_count": null,
   "metadata": {},
   "outputs": [],
   "source": [
    "plt.plot(expectation)\n",
    "plt.plot(average)"
   ]
  },
  {
   "cell_type": "code",
   "execution_count": null,
   "metadata": {},
   "outputs": [],
   "source": [
    "std = [3.17, 10.01, 14.21, 17.25, 19.85, 22.23, 24.57, 26.55, 28.32, 30.14, 31.74]\n",
    "var = [i*i for i in std]"
   ]
  },
  {
   "cell_type": "code",
   "execution_count": null,
   "metadata": {},
   "outputs": [],
   "source": []
  },
  {
   "cell_type": "code",
   "execution_count": null,
   "metadata": {},
   "outputs": [],
   "source": [
    "plt.plot(average)\n",
    "plt.plot(var)"
   ]
  },
  {
   "cell_type": "code",
   "execution_count": null,
   "metadata": {},
   "outputs": [],
   "source": []
  },
  {
   "cell_type": "code",
   "execution_count": null,
   "metadata": {},
   "outputs": [],
   "source": [
    "cv = [std[i]/average[i] for i in range(len(std))]\n",
    "len(cv)"
   ]
  },
  {
   "cell_type": "code",
   "execution_count": null,
   "metadata": {},
   "outputs": [],
   "source": [
    "plt.plot(cv)"
   ]
  },
  {
   "cell_type": "code",
   "execution_count": null,
   "metadata": {},
   "outputs": [],
   "source": [
    "fact = [var[i]/average[i] for i in range(len(std))]\n",
    "len(fact)"
   ]
  },
  {
   "cell_type": "code",
   "execution_count": null,
   "metadata": {},
   "outputs": [],
   "source": [
    "plt.plot(fact)"
   ]
  },
  {
   "cell_type": "code",
   "execution_count": null,
   "metadata": {},
   "outputs": [],
   "source": [
    "cv = \"std/mean\"\n",
    "fano_factor = \"variance/mean\""
   ]
  },
  {
   "cell_type": "code",
   "execution_count": null,
   "metadata": {},
   "outputs": [],
   "source": []
  },
  {
   "cell_type": "code",
   "execution_count": null,
   "metadata": {},
   "outputs": [],
   "source": [
    "# Test for Speed!"
   ]
  },
  {
   "cell_type": "code",
   "execution_count": null,
   "metadata": {},
   "outputs": [],
   "source": [
    "temp = np.full(shape = (10, 5), fill_value = 10)"
   ]
  },
  {
   "cell_type": "code",
   "execution_count": null,
   "metadata": {},
   "outputs": [],
   "source": [
    "temp[0, :] = 0"
   ]
  },
  {
   "cell_type": "code",
   "execution_count": null,
   "metadata": {},
   "outputs": [],
   "source": [
    "it = np.nditer(op = temp, flags = ['external_loop', 'buffered'], op_flags = ['readwrite'], order = 'C', buffersize = 5)\n",
    "for e in it:\n",
    "    if it.iterindex == 0:\n",
    "        _ = e\n",
    "    else:\n",
    "        e[...] = e + _\n",
    "        _ = e"
   ]
  },
  {
   "cell_type": "code",
   "execution_count": null,
   "metadata": {},
   "outputs": [],
   "source": [
    "temp"
   ]
  },
  {
   "cell_type": "code",
   "execution_count": null,
   "metadata": {},
   "outputs": [],
   "source": [
    "s = 1000\n",
    "t = 500\n",
    "temp0 = np.random.uniform(size = (s, t))\n",
    "temp1 = np.full(shape = (s, t), fill_value = 0)"
   ]
  },
  {
   "cell_type": "code",
   "execution_count": null,
   "metadata": {},
   "outputs": [],
   "source": [
    "it = np.nditer(op = [temp0, temp1], flags = ['external_loop', 'buffered'], op_flags = [['readonly'], ['readwrite']], order = 'C', buffersize = t)\n",
    "for e0, e1 in it:\n",
    "    p = e0 > 0.5\n",
    "    e1[p] = e1[p] + 1"
   ]
  },
  {
   "cell_type": "code",
   "execution_count": null,
   "metadata": {},
   "outputs": [],
   "source": [
    "temp1"
   ]
  },
  {
   "cell_type": "code",
   "execution_count": null,
   "metadata": {},
   "outputs": [],
   "source": []
  },
  {
   "cell_type": "code",
   "execution_count": null,
   "metadata": {},
   "outputs": [],
   "source": [
    "# Test for Reality!"
   ]
  },
  {
   "cell_type": "code",
   "execution_count": null,
   "metadata": {},
   "outputs": [],
   "source": [
    "s = 10\n",
    "t = 1"
   ]
  },
  {
   "cell_type": "code",
   "execution_count": null,
   "metadata": {},
   "outputs": [],
   "source": [
    "# Just do it!"
   ]
  },
  {
   "cell_type": "code",
   "execution_count": null,
   "metadata": {},
   "outputs": [],
   "source": []
  },
  {
   "cell_type": "code",
   "execution_count": null,
   "metadata": {},
   "outputs": [],
   "source": []
  }
 ],
 "metadata": {
  "kernelspec": {
   "display_name": "Python 3",
   "language": "python",
   "name": "python3"
  },
  "language_info": {
   "codemirror_mode": {
    "name": "ipython",
    "version": 3
   },
   "file_extension": ".py",
   "mimetype": "text/x-python",
   "name": "python",
   "nbconvert_exporter": "python",
   "pygments_lexer": "ipython3",
   "version": "3.8.3"
  }
 },
 "nbformat": 4,
 "nbformat_minor": 2
}
